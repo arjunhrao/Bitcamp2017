{
 "cells": [
  {
   "cell_type": "code",
   "execution_count": 7,
   "metadata": {
    "collapsed": false
   },
   "outputs": [
    {
     "name": "stdout",
     "output_type": "stream",
     "text": [
      "2010-03-13T23:42:01Z\n",
      "2010-03-13T23:42:02Z\n",
      "2010-03-13T23:42:03Z\n",
      "2010-03-13T23:42:04Z\n",
      "2010-03-13T23:42:04Z\n",
      "2010-03-13T23:42:06Z\n",
      "2010-03-13T23:42:07Z\n",
      "2010-03-13T23:42:08Z\n",
      "2010-03-13T23:42:09Z\n",
      "2010-03-13T23:42:10Z\n",
      "2010-03-13T23:42:11Z\n",
      "2010-03-13T23:42:12Z\n",
      "2010-03-13T23:42:12Z\n",
      "2010-03-13T23:42:13Z\n",
      "2010-03-13T23:42:14Z\n",
      "2010-03-13T23:42:15Z\n",
      "2010-03-13T23:42:16Z\n",
      "2010-03-13T23:42:18Z\n",
      "2010-03-13T23:42:18Z\n",
      "2010-03-13T23:42:20Z\n",
      "2010-03-13T23:42:21Z\n",
      "2010-03-13T23:42:22Z\n",
      "2010-03-13T23:42:23Z\n",
      "2010-03-13T23:42:26Z\n",
      "2010-03-13T23:42:27Z\n",
      "2010-03-13T23:42:27Z\n",
      "2010-03-13T23:42:28Z\n",
      "2010-03-13T23:42:29Z\n",
      "2010-03-13T23:42:31Z\n",
      "2010-03-13T23:42:32Z\n"
     ]
    }
   ],
   "source": [
    "import json\n",
    "from pprint import pprint\n",
    "\n",
    "#compList = []\n",
    "objDict = {}\n",
    "\n",
    "for i in range(30):\n",
    "    temp = i + 6;\n",
    "    compstring = \"json_files/\" + str(temp) + \".json\"\n",
    "    with open(compstring) as data_file:    \n",
    "        data = json.load(data_file)\n",
    "        objDict[ = data\n",
    "        print(data[\"date_created\"])\n",
    "\n",
    "#pprint(data)"
   ]
  },
  {
   "cell_type": "code",
   "execution_count": 8,
   "metadata": {
    "collapsed": false
   },
   "outputs": [
    {
     "name": "stdout",
     "output_type": "stream",
     "text": [
      "<class 'str'>\n"
     ]
    }
   ],
   "source": [
    "print(type(data[\"date_created\"]))"
   ]
  }
 ],
 "metadata": {
  "kernelspec": {
   "display_name": "Python 3",
   "language": "python",
   "name": "python3"
  },
  "language_info": {
   "codemirror_mode": {
    "name": "ipython",
    "version": 3
   },
   "file_extension": ".py",
   "mimetype": "text/x-python",
   "name": "python",
   "nbconvert_exporter": "python",
   "pygments_lexer": "ipython3",
   "version": "3.5.1"
  }
 },
 "nbformat": 4,
 "nbformat_minor": 0
}
